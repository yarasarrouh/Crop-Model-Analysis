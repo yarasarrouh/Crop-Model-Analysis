{
 "cells": [
  {
   "cell_type": "code",
   "execution_count": null,
   "id": "685956fc",
   "metadata": {},
   "outputs": [],
   "source": [
    "import os\n",
    "import geopandas as gpd\n",
    "\n",
    "# Variables \n",
    "# Shapefile path\n",
    "year = 2022\n",
    "shapefile_path = '/home/ucfaya1@ad.ucl.ac.uk/Downloads/HI_Data_yara_new/code_data/save_code_data/geometry2021.shp'\n",
    "\n",
    "# Name the geojson folder path\n",
    "output_folder_path = r\"C:\\Users\\user\\Desktop\\HI_Data_yara\\code_data\\save_code_data\\\\\"\n",
    "\n",
    "# Create a new folder named 'new_json' inside the output_folder_path\n",
    "new_folder_path = os.path.join(output_folder_path, f'fields_boundaries_json_{year}')\n",
    "os.makedirs(new_folder_path, exist_ok=True)\n",
    "\n",
    "# Read shapefile as dataframe\n",
    "field_basics_shp = gpd.read_file(shapefile_path)\n",
    "\n",
    "# Remove numbers and () to match the field names\n",
    "pattern = r'[0-9,()]+'\n",
    "field_basics_shp['name'] =field_basics_shp['name'].str.replace(pattern, '',regex=True)\n",
    "field_basics_shp = field_basics_shp.rename(columns={'name': 'FieldName'})\n",
    "field_basics_shp = field_basics_shp.rename(columns={'soil_name_': 'SoilType'})\n",
    "\n",
    "# Remove spaces from the end of the string in field name\n",
    "field_basics_shp['FieldName'] = field_basics_shp['FieldName'].str.strip()\n",
    "field_basics_shp\n",
    "\n",
    "# Get the unique field names from the DataFrame\n",
    "unique_field_names = field_basics_shp['FieldName'].unique()\n",
    "\n",
    "# Loop over each field name and create a GeoJSON file\n",
    "for field_name in unique_field_names:\n",
    "    # Select row and geometry column for the current field name\n",
    "    selected_field_name_geometry = field_basics_shp.loc[field_basics_shp['FieldName'] == field_name, ['FieldName', 'geometry']]\n",
    "    \n",
    "    # Name the GeoJSON file\n",
    "    output_file_name = '{}_geometry.geojson'.format(field_name)\n",
    "    output_file_path = os.path.join(new_folder_path, output_file_name)\n",
    "    \n",
    "    # Save the GeoDataFrame to the GeoJSON file\n",
    "    selected_field_name_geometry.to_file(output_file_path, driver='GeoJSON')"
   ]
  }
 ],
 "metadata": {
  "kernelspec": {
   "display_name": "base",
   "language": "python",
   "name": "base"
  },
  "language_info": {
   "codemirror_mode": {
    "name": "ipython",
    "version": 3
   },
   "file_extension": ".py",
   "mimetype": "text/x-python",
   "name": "python",
   "nbconvert_exporter": "python",
   "pygments_lexer": "ipython3",
   "version": "3.10.12"
  }
 },
 "nbformat": 4,
 "nbformat_minor": 5
}
